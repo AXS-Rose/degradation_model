{
 "cells": [
  {
   "cell_type": "code",
   "execution_count": 1,
   "metadata": {},
   "outputs": [],
   "source": [
    "from prog_models import PrognosticsModel\n",
    "import numpy as np\n",
    "import numpy.random as rnd\n",
    "import matplotlib.pyplot as plt\n",
    "from scipy.optimize import curve_fit\n",
    "from sklearn.neighbors import KNeighborsRegressor\n",
    "from sklearn.preprocessing import KBinsDiscretizer"
   ]
  },
  {
   "cell_type": "code",
   "execution_count": 46,
   "metadata": {},
   "outputs": [],
   "source": [
    "degradation_data = {\n",
    "            \"100-0\": [1.0, 1.0, 1.0],\n",
    "            \"100-25\": [1.000003, 1.00000266, 1.00000193],\n",
    "            \"75-0\": [1.000024, 1.0000186, 1.00001354],\n",
    "            \"100-50\": [0.999989, 0.99999203, 0.9999942],\n",
    "            \"75-25\": [1.000019, 1.00001521, 1.00001108],\n",
    "            \"50-0\": [1.000037, 1.00002874, 1.00002093],\n",
    "            \"100-75\": [1.000027, 1.00002146, 1.00001563],\n",
    "            \"75-50\": [1.000011, 1.00000881, 1.00000642],\n",
    "            \"62.5-37.5\": [1.000008, 1.00000620, 1.00000451],\n",
    "            \"50-25\": [1.000043, 1.00003347, 1.00002438],\n",
    "            \"25-0\": [1.000054, 1.00004184, 1.00003047],\n",
    "}\n"
   ]
  },
  {
   "cell_type": "code",
   "execution_count": 47,
   "metadata": {},
   "outputs": [
    {
     "name": "stdout",
     "output_type": "stream",
     "text": [
      "old factors in 100-0: [1.0, 1.0, 1.0]\n",
      "new factors in 100-0: [1.0, 1.0, 1.0]\n",
      "old factors in 100-25: [1.000003, 1.00000266, 1.00000193]\n",
      "new factors in 100-25: [1.000003, 0.999939807275682, 1.00000193]\n",
      "old factors in 75-0: [1.000024, 1.0000186, 1.00001354]\n",
      "new factors in 75-0: [1.000024, 1.0000248182016458, 1.00001354]\n",
      "old factors in 100-50: [0.999989, 0.99999203, 0.9999942]\n",
      "new factors in 100-50: [0.999989, 0.999713137347562, 0.9999942]\n",
      "old factors in 75-25: [1.000019, 1.00001521, 1.00001108]\n",
      "new factors in 75-25: [1.000019, 0.9998985406706642, 1.00001108]\n",
      "old factors in 50-0: [1.000037, 1.00002874, 1.00002093]\n",
      "new factors in 50-0: [1.000037, 1.0000067731677371, 1.00002093]\n",
      "old factors in 100-75: [1.000027, 1.00002146, 1.00001563]\n",
      "new factors in 100-75: [1.000027, 0.9996739788183154, 1.00001563]\n",
      "old factors in 75-50: [1.000011, 1.00000881, 1.00000642]\n",
      "new factors in 75-50: [1.000011, 0.99947166834148, 1.00000642]\n",
      "old factors in 62.5-37.5: [1.000008, 1.0000062, 1.00000451]\n",
      "new factors in 62.5-37.5: [1.000008, 0.9994299315893153, 1.00000451]\n",
      "old factors in 50-25: [1.000043, 1.00003347, 1.00002438]\n",
      "new factors in 50-25: [1.000043, 0.9998660893511615, 1.00002438]\n",
      "old factors in 25-0: [1.000054, 1.00004184, 1.00003047]\n",
      "new factors in 25-0: [1.000054, 0.9999999953417631, 1.00003047]\n"
     ]
    }
   ],
   "source": [
    "degradation_percentage = 0.8\n",
    "life_cycles = 1000\n",
    "life_cycles_0 = 4000\n",
    "\n",
    "# obtenemos el sr del caso nominal\n",
    "sr_0 = next(iter(degradation_data))\n",
    "sr_range_0 = [float(x) for x in sr_0.split(\"-\")]\n",
    "sr_numeric_0 = sr_range_0[0] - sr_range_0[1]\n",
    "sr_numeric_0\n",
    "\n",
    "for sr, factors in degradation_data.items():\n",
    "            \n",
    "            print(f\"old factors in {sr}: {factors}\")\n",
    "\n",
    "            sr_range = [float(x) for x in sr.split(\"-\")]\n",
    "            sr_numeric = sr_range[0] - sr_range[1]  # SR\n",
    "            \n",
    "            eta_k_0 = factors[1]*degradation_percentage**(1/life_cycles_0)\n",
    "            normalized_factor = factors[1]*(eta_k_0**((sr_numeric_0-sr_numeric)/sr_numeric))\n",
    "            new_factor = normalized_factor**(life_cycles_0/life_cycles)\n",
    "\n",
    "            # Update the factor in factors[1]\n",
    "            factors[1] = new_factor\n",
    "            print(f\"new factors in {sr}: {factors}\")\n",
    "\n"
   ]
  }
 ],
 "metadata": {
  "kernelspec": {
   "display_name": "Python 3",
   "language": "python",
   "name": "python3"
  },
  "language_info": {
   "codemirror_mode": {
    "name": "ipython",
    "version": 3
   },
   "file_extension": ".py",
   "mimetype": "text/x-python",
   "name": "python",
   "nbconvert_exporter": "python",
   "pygments_lexer": "ipython3",
   "version": "3.10.4"
  }
 },
 "nbformat": 4,
 "nbformat_minor": 2
}
