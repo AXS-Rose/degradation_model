{
 "cells": [
  {
   "cell_type": "code",
   "execution_count": 18,
   "metadata": {},
   "outputs": [],
   "source": [
    "import pandas as pd\n",
    "import numpy as np\n",
    "import os\n",
    "import matplotlib.pyplot as plt"
   ]
  },
  {
   "cell_type": "code",
   "execution_count": 19,
   "metadata": {},
   "outputs": [],
   "source": [
    "def log_a(a,x):\n",
    "    y = np.log(x)/np.log(a)\n",
    "    return y"
   ]
  },
  {
   "cell_type": "markdown",
   "metadata": {},
   "source": [
    "### Primero obtener el C-Rate promedio de los perfiles de descarga de Stanford"
   ]
  },
  {
   "cell_type": "code",
   "execution_count": 20,
   "metadata": {},
   "outputs": [
    {
     "name": "stdout",
     "output_type": "stream",
     "text": [
      "CR con soc y tiempo=  -0.13219410663444003\n"
     ]
    }
   ],
   "source": [
    "## Ingresamos el primer archivo con ciclado\n",
    "path = os.path.join('C:/Users/Bruno/Dropbox','Dataset Stanford', 'W10','C1.csv')\n",
    "columns_to_select = [\"step_ind\",\"current\",\"time\",\"exp\"]\n",
    "df = pd.read_csv(path,usecols=columns_to_select)\n",
    "## Creamos las variables para el perfil de corriente\n",
    "dq = 0\n",
    "q_acc = 0\n",
    "t_acc = 0\n",
    "q_max = 4.865\n",
    "\n",
    "\n",
    "df_ = df[df.exp == 1]\n",
    "for ind, (c, dt, step) in enumerate(zip(df_.current.values,\n",
    "                                              df_.time.values[1:] - df_.time.values[:-1],\n",
    "                                              df_.step_ind.values)):\n",
    "    if step in [13,14]:\n",
    "        dq = c*dt\n",
    "        q_acc += dq\n",
    "        t_acc += dt\n",
    "\n",
    "soc_acc = q_acc/(q_max)\n",
    "T = t_acc\n",
    "CR_s = soc_acc/T\n",
    "\n",
    "print(\"CR con soc y tiempo= \",CR_s)"
   ]
  },
  {
   "cell_type": "markdown",
   "metadata": {},
   "source": [
    "### Definimos el factor que induce el C-Rate de Standford"
   ]
  },
  {
   "cell_type": "code",
   "execution_count": 21,
   "metadata": {},
   "outputs": [],
   "source": [
    "# Obtenemos el ground truth\n",
    "gt_path = \"C:/Users/Bruno/OneDrive - Universidad de Chile/BGMG/CASE/Datasets/Dataset Stanford/W10/W10_diagnostics.csv\"\n",
    "gt_path_values = pd.read_csv(gt_path,header=None)\n",
    "gt_path_values = gt_path_values.values\n",
    "\n",
    "EOL_s = gt_path_values[-1]\n",
    "EOL_s = EOL_s[0]\n",
    "EOL_S0 = 0.8\n",
    "cycles_s = 350 # por el paper sabemos que eso se alcanza despues de 350 ciclos\n",
    "\n",
    "eta_s = EOL_s**(1/cycles_s)\n",
    "cycles_s0 = 1/(log_a(EOL_S0,eta_s))\n",
    "\n",
    "eta_s0 = EOL_S0**(1/cycles_s0)\n",
    "\n",
    "## calculamos el eta original de la celda\n",
    "cycles_0 = 300\n",
    "EOL_0 = 0.8\n",
    "eta_0 = EOL_0**(1/cycles_0)\n",
    "\n",
    "## obtenemos el factor para los datos de stanford\n",
    "fcr_s = eta_s0/eta_0"
   ]
  },
  {
   "cell_type": "code",
   "execution_count": 22,
   "metadata": {},
   "outputs": [
    {
     "data": {
      "text/plain": [
       "0.916399279386145"
      ]
     },
     "execution_count": 22,
     "metadata": {},
     "output_type": "execute_result"
    }
   ],
   "source": [
    "EOL_s"
   ]
  },
  {
   "cell_type": "markdown",
   "metadata": {},
   "source": [
    "### Definimos el factor que induce el C-Rate del paper Aging"
   ]
  },
  {
   "cell_type": "code",
   "execution_count": null,
   "metadata": {},
   "outputs": [],
   "source": [
    "## por el paper sabemos el CR de descarga\n",
    "CR_a = 1\n",
    "## Además conocemos la degradación y ciclos que tomo para [100,0]\n",
    "EOL_a = 0.81\n",
    "cycles_a = 1170"
   ]
  }
 ],
 "metadata": {
  "kernelspec": {
   "display_name": "Python 3",
   "language": "python",
   "name": "python3"
  },
  "language_info": {
   "codemirror_mode": {
    "name": "ipython",
    "version": 3
   },
   "file_extension": ".py",
   "mimetype": "text/x-python",
   "name": "python",
   "nbconvert_exporter": "python",
   "pygments_lexer": "ipython3",
   "version": "3.10.4"
  }
 },
 "nbformat": 4,
 "nbformat_minor": 2
}
